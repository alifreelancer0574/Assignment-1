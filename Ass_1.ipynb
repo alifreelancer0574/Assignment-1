{
  "nbformat": 4,
  "nbformat_minor": 0,
  "metadata": {
    "colab": {
      "name": "Ass#1.ipynb",
      "provenance": [],
      "collapsed_sections": []
    },
    "kernelspec": {
      "name": "python3",
      "display_name": "Python 3"
    },
    "language_info": {
      "name": "python"
    }
  },
  "cells": [
    {
      "cell_type": "markdown",
      "source": [
        "# Question #1"
      ],
      "metadata": {
        "id": "6-ShFbVggHYC"
      }
    },
    {
      "cell_type": "code",
      "source": [
        "print('Twinkle,twinkle,little start,\\n\\tHow I wonder what you are\\n\\t\\tUp above the word so high,\\n\\t\\tLike a diamond in the sky.\\nTwinkle,twinkle,little star,\\n\\tHow I wonder what you are')"
      ],
      "metadata": {
        "colab": {
          "base_uri": "https://localhost:8080/"
        },
        "id": "hkKatHX5gOa3",
        "outputId": "dba56171-a4b3-42d6-fd53-dce3f782c0f1"
      },
      "execution_count": 12,
      "outputs": [
        {
          "output_type": "stream",
          "name": "stdout",
          "text": [
            "Twinkle,twinkle,little start,\n",
            "\tHow I wonder what you are\n",
            "\t\tUp above the word so high,\n",
            "\t\tLike a diamond in the sky.\n",
            "Twinkle,twinkle,little star,\n",
            "\tHow I wonder what you are\n"
          ]
        }
      ]
    },
    {
      "cell_type": "markdown",
      "source": [
        "# Question #2"
      ],
      "metadata": {
        "id": "rvVlACv0nILi"
      }
    },
    {
      "cell_type": "code",
      "source": [
        "import platform\n",
        "print(platform.python_version())"
      ],
      "metadata": {
        "colab": {
          "base_uri": "https://localhost:8080/"
        },
        "id": "CoeIOwrkjJOI",
        "outputId": "3a8e944c-9a5d-4c30-8de9-c5fb9e13a235"
      },
      "execution_count": 17,
      "outputs": [
        {
          "output_type": "stream",
          "name": "stdout",
          "text": [
            "3.7.12\n"
          ]
        }
      ]
    },
    {
      "cell_type": "markdown",
      "source": [
        "# Question #3"
      ],
      "metadata": {
        "id": "5PwfTvogn8eF"
      }
    },
    {
      "cell_type": "code",
      "source": [
        "import datetime\n",
        "\n",
        "print(datetime.datetime.now())"
      ],
      "metadata": {
        "colab": {
          "base_uri": "https://localhost:8080/"
        },
        "id": "4taEETsFjq2e",
        "outputId": "4085a7ca-ec71-4d20-e8a2-0c057eb5111e"
      },
      "execution_count": 19,
      "outputs": [
        {
          "output_type": "stream",
          "name": "stdout",
          "text": [
            "2022-01-01 07:34:36.381898\n"
          ]
        }
      ]
    },
    {
      "cell_type": "markdown",
      "source": [
        "# Question #4"
      ],
      "metadata": {
        "id": "4QIInVmGoDyx"
      }
    },
    {
      "cell_type": "code",
      "source": [
        "def findarea(r):\n",
        "  return 3.14*r*r\n",
        "radius= int(input('Enter radius'))\n",
        "print(findarea(radius))"
      ],
      "metadata": {
        "colab": {
          "base_uri": "https://localhost:8080/"
        },
        "id": "ZuB-eYYCj7bD",
        "outputId": "ec91ef3a-9834-4562-c56d-ccd756d2f974"
      },
      "execution_count": 24,
      "outputs": [
        {
          "output_type": "stream",
          "name": "stdout",
          "text": [
            "Enter radius12\n",
            "452.15999999999997\n"
          ]
        }
      ]
    },
    {
      "cell_type": "markdown",
      "source": [
        "# Question #5"
      ],
      "metadata": {
        "id": "HMr_pZe0oKJz"
      }
    },
    {
      "cell_type": "code",
      "source": [
        "def namefunction():\n",
        "  first_name = input('Enter First name ')\n",
        "  last_name = input('Enter Last name ')\n",
        "\n",
        "  return last_name + ' '+ first_name\n",
        "\n",
        "namefunction()  "
      ],
      "metadata": {
        "colab": {
          "base_uri": "https://localhost:8080/",
          "height": 72
        },
        "id": "TBVmwwgFlF5z",
        "outputId": "f17ef95f-3943-479a-d071-88f0100bf13e"
      },
      "execution_count": 26,
      "outputs": [
        {
          "name": "stdout",
          "output_type": "stream",
          "text": [
            "Enter First name ali\n",
            "Enter Last name ahmad\n"
          ]
        },
        {
          "output_type": "execute_result",
          "data": {
            "application/vnd.google.colaboratory.intrinsic+json": {
              "type": "string"
            },
            "text/plain": [
              "'ahmad ali'"
            ]
          },
          "metadata": {},
          "execution_count": 26
        }
      ]
    },
    {
      "cell_type": "markdown",
      "source": [
        "# Question #6"
      ],
      "metadata": {
        "id": "9qbtf-kCoSal"
      }
    },
    {
      "cell_type": "code",
      "source": [
        "def addition():\n",
        "  one = float(input('Enter the first number '))\n",
        "  two = float(input('Enter the second number '))\n",
        "  return one+two\n",
        "\n",
        "addition()  "
      ],
      "metadata": {
        "colab": {
          "base_uri": "https://localhost:8080/"
        },
        "id": "wUqKkg_HlxnK",
        "outputId": "e281e853-ea20-4d95-f5b2-c04e4fd5e530"
      },
      "execution_count": 31,
      "outputs": [
        {
          "name": "stdout",
          "output_type": "stream",
          "text": [
            "Enter the first number12\n",
            "Enter the second number12\n"
          ]
        },
        {
          "output_type": "execute_result",
          "data": {
            "text/plain": [
              "24.0"
            ]
          },
          "metadata": {},
          "execution_count": 31
        }
      ]
    },
    {
      "cell_type": "code",
      "source": [
        ""
      ],
      "metadata": {
        "id": "W6IIjpfBlGAv"
      },
      "execution_count": null,
      "outputs": []
    }
  ]
}